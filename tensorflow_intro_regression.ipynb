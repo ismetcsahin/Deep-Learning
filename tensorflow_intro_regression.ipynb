{
 "cells": [
  {
   "cell_type": "code",
   "execution_count": null,
   "metadata": {
    "id": "1SPPfKTrF5AB"
   },
   "outputs": [],
   "source": [
    "# colab'da ise tüm kütüphaneler neredeyse yüklü geliyor data science için, arkada linux makine çalıştırdığı için farklı kütüphaneler de yüklüyebiliyoruz \n",
    "# birçok kütüphane güncel geliyor update ve yüklemek için uğraşmıyoruz \n",
    "# 12 gb'lık var ram ve 100 gb harddislik bir makina veriyor bize \n",
    "# deep learning methodlarını gpu ile çalıştırırsak daha hızlı çalışıyor bize bunu sunuyor \n",
    "# tensorflow yükledikten sonra local'de grafik kartının da limitlerinden yararlanmak istiyorsak eğer tensorflow'un başka eklentileri var \n",
    "# ve onları da yüklemek gerekiyor windows makinelerde de sıkıntı çıkarıyor yüklemek hazır bir paket halinde vermemişler çünkü \n"
   ]
  },
  {
   "cell_type": "code",
   "execution_count": 1,
   "metadata": {
    "colab": {
     "base_uri": "https://localhost:8080/"
    },
    "id": "DhZrQeUb_LVp",
    "outputId": "5f894ea8-8e58-490a-b650-7fe8ef1ff722"
   },
   "outputs": [
    {
     "name": "stdout",
     "output_type": "stream",
     "text": [
      "2.4.0\n"
     ]
    }
   ],
   "source": [
    "import tensorflow as tf \n",
    "print(tf.__version__)\n",
    "\n",
    "# tensorflow'un kendi api'si olduğu gibi keras ile high level api tensorflow'un fonksiyonlarına daha kolay ulaşabileceğimiz bir arayüz ya da aracode diyebiliriz\n",
    "# bu keras'dan istediğimiz araçları çekebiliyoruz "
   ]
  },
  {
   "cell_type": "code",
   "execution_count": 3,
   "metadata": {
    "id": "YeW_g7kB_QP_"
   },
   "outputs": [],
   "source": [
    "import tensorflow as tf \n",
    "from tensorflow.keras.models import Sequential\n",
    "from tensorflow.keras.layers import Dense # hidden layer'lar için \n"
   ]
  },
  {
   "cell_type": "code",
   "execution_count": 4,
   "metadata": {
    "id": "PByvOx6LIvO6"
   },
   "outputs": [],
   "source": [
    "from sklearn.datasets import load_boston # boston datasetini aldık sklearn içerisinden\n",
    "import numpy as np\n",
    "import matplotlib.pyplot as plt\n",
    "from sklearn.neural_network import MLPRegressor  # regression problemi için bunu import ettik\n",
    "import pandas as pd\n",
    "from sklearn.model_selection import train_test_split # train ve test için import ettik\n",
    "from sklearn.metrics import r2_score, mean_squared_error\n",
    "from sklearn.neural_network import MLPClassifier # derin öğrenme ile sınıflandırma \n",
    "from sklearn.metrics import accuracy_score # doğruluk score'u\n",
    "from sklearn.datasets import load_breast_cancer # meme kanseri verisini aldık"
   ]
  },
  {
   "cell_type": "code",
   "execution_count": 5,
   "metadata": {
    "id": "2GFVShJsI6Xg"
   },
   "outputs": [],
   "source": [
    "data = load_boston()\n",
    "X = data[\"data\"]\n",
    "y = data[\"target\"]\n",
    "X_train, X_test, y_train, y_test = train_test_split(X,y, test_size=0.3 )\n"
   ]
  },
  {
   "cell_type": "code",
   "execution_count": 6,
   "metadata": {
    "id": "R_s9sh3FA3yP"
   },
   "outputs": [],
   "source": [
    "model = Sequential([Dense(64,input_shape = (None,X.shape[1])),Dense(32),Dense(1)]) # boş bir model oluşturuyoruz, art arda katmanlar koymak için sequntial model kullanıyoruz \n",
    "# bir bakıma şu demek oluyor bir katmanın output'u diğer katmanın input'u olacak \n",
    "# Dense ise hidden_layer oluyor kendisinden önceki katmandaki nöronlar ile bağlantısı varsa Dense layer'lar oluyor, kaç tane nöron istiyorsak seçiyoruz \n",
    "# 2 katman oluşturuk 64 ve 32, 2 tane gizli katman 1 tane ise çıktı(output) katmanı\n",
    "# bu şekilde bir architecture kurmak istiyorsak Dense layer'lardan oluşturmalıyız \n",
    "# girdi katmanı ise ilk Dense layer katmanı içinde input_shape olarak girmeliyiz satır sayısını None giriyoruz ama sütun sayısını girmeliyiz\n",
    "\n"
   ]
  },
  {
   "cell_type": "code",
   "execution_count": 35,
   "metadata": {
    "colab": {
     "base_uri": "https://localhost:8080/"
    },
    "id": "x393l-5BNZ2c",
    "outputId": "2d1d463d-313f-465b-f212-e2ee40e0fb7e"
   },
   "outputs": [
    {
     "name": "stdout",
     "output_type": "stream",
     "text": [
      "Epoch 1/5\n",
      "WARNING:tensorflow:Model was constructed with shape (None, None, 13) for input KerasTensor(type_spec=TensorSpec(shape=(None, None, 13), dtype=tf.float32, name='dense_15_input'), name='dense_15_input', description=\"created by layer 'dense_15_input'\"), but it was called on an input with incompatible shape (None, 13).\n",
      "WARNING:tensorflow:Model was constructed with shape (None, None, 13) for input KerasTensor(type_spec=TensorSpec(shape=(None, None, 13), dtype=tf.float32, name='dense_15_input'), name='dense_15_input', description=\"created by layer 'dense_15_input'\"), but it was called on an input with incompatible shape (None, 13).\n",
      "12/12 [==============================] - 0s 3ms/step - loss: 16380.9776 - mae: 107.7528 - mape: 570.9830\n",
      "Epoch 2/5\n",
      "12/12 [==============================] - 0s 3ms/step - loss: 2534.5686 - mae: 44.1523 - mape: 218.1043\n",
      "Epoch 3/5\n",
      "12/12 [==============================] - 0s 3ms/step - loss: 546.2706 - mae: 19.7887 - mape: 100.7579\n",
      "Epoch 4/5\n",
      "12/12 [==============================] - 0s 3ms/step - loss: 353.5018 - mae: 14.8738 - mape: 88.3834\n",
      "Epoch 5/5\n",
      "12/12 [==============================] - 0s 3ms/step - loss: 175.6982 - mae: 10.4671 - mape: 48.4249\n"
     ]
    },
    {
     "data": {
      "text/plain": [
       "<tensorflow.python.keras.callbacks.History at 0x7f4c06c29f98>"
      ]
     },
     "execution_count": 35,
     "metadata": {
      "tags": []
     },
     "output_type": "execute_result"
    }
   ],
   "source": [
    "model.compile(optimizer=\"adam\",loss=\"mse\",metrics=[\"mae\",\"mape\"]) \n",
    "# metric'leri kendimiz de oluşturabiliriz, \n",
    "# mape = yüzdelik hata değerlerini görmek istiyoruz, mae= mean absolute error \n",
    "# adam algoritmasını kullandık, optimizer = eniyileştirici\n",
    "# https://www.tensorflow.org/api_docs/python/tf/keras/metrics\n",
    "\n",
    "model.fit(X_train,y_train,epochs=5)\n",
    "# epoch =zaman, yani 5 kez çalıştırmış olduk bunu arttırırsak daha fazla çalışmış olacak ve daha fazla öğrenecek diyebiliriz \n",
    "#  modelinizin örnek verileriniz üzerinde kaç kez eğitilmesi gerektiğini belirlersiniz \n",
    "#history = model.fit(X_train,y_train,epochs=5, verbose=0)\n",
    "# bir çıktı olarakta alabiliyoruz, verbose 0 olarak verirsek çıktı dönmüyor 1 verirsek epochs sayısı kadar dönüyor, 2 dersek ise farklı şekilde veriyor"
   ]
  },
  {
   "cell_type": "code",
   "execution_count": null,
   "metadata": {
    "id": "GTSp8ZJbOkxx"
   },
   "outputs": [],
   "source": [
    "# yukarıdaki code data sayısı az olduğu için çok hızlı çalıştı diyebiliriz\n",
    "# loss fonksiyonu git gide azalıyor o da mean squared error'du, diğer parametreler de git gide azalıyor "
   ]
  },
  {
   "cell_type": "code",
   "execution_count": 14,
   "metadata": {
    "id": "V2wfO6gpOfVv"
   },
   "outputs": [],
   "source": [
    "history = model.fit(X_train,y_train,epochs=100, verbose=0)"
   ]
  },
  {
   "cell_type": "code",
   "execution_count": 83,
   "metadata": {
    "colab": {
     "base_uri": "https://localhost:8080/",
     "height": 204
    },
    "id": "DvIWwq2VOhFV",
    "outputId": "70e2a9a3-4b21-47b5-ab10-bcb73e67dec9"
   },
   "outputs": [
    {
     "data": {
      "text/html": [
       "<div>\n",
       "<style scoped>\n",
       "    .dataframe tbody tr th:only-of-type {\n",
       "        vertical-align: middle;\n",
       "    }\n",
       "\n",
       "    .dataframe tbody tr th {\n",
       "        vertical-align: top;\n",
       "    }\n",
       "\n",
       "    .dataframe thead th {\n",
       "        text-align: right;\n",
       "    }\n",
       "</style>\n",
       "<table border=\"1\" class=\"dataframe\">\n",
       "  <thead>\n",
       "    <tr style=\"text-align: right;\">\n",
       "      <th></th>\n",
       "      <th>loss</th>\n",
       "      <th>mae</th>\n",
       "      <th>mape</th>\n",
       "    </tr>\n",
       "  </thead>\n",
       "  <tbody>\n",
       "    <tr>\n",
       "      <th>0</th>\n",
       "      <td>39.824554</td>\n",
       "      <td>4.822027</td>\n",
       "      <td>24.318964</td>\n",
       "    </tr>\n",
       "    <tr>\n",
       "      <th>1</th>\n",
       "      <td>39.588573</td>\n",
       "      <td>4.822552</td>\n",
       "      <td>23.935658</td>\n",
       "    </tr>\n",
       "    <tr>\n",
       "      <th>2</th>\n",
       "      <td>38.421162</td>\n",
       "      <td>4.761825</td>\n",
       "      <td>23.386923</td>\n",
       "    </tr>\n",
       "    <tr>\n",
       "      <th>3</th>\n",
       "      <td>64.844437</td>\n",
       "      <td>6.411263</td>\n",
       "      <td>32.913120</td>\n",
       "    </tr>\n",
       "    <tr>\n",
       "      <th>4</th>\n",
       "      <td>39.800774</td>\n",
       "      <td>4.645207</td>\n",
       "      <td>23.302004</td>\n",
       "    </tr>\n",
       "  </tbody>\n",
       "</table>\n",
       "</div>"
      ],
      "text/plain": [
       "        loss       mae       mape\n",
       "0  39.824554  4.822027  24.318964\n",
       "1  39.588573  4.822552  23.935658\n",
       "2  38.421162  4.761825  23.386923\n",
       "3  64.844437  6.411263  32.913120\n",
       "4  39.800774  4.645207  23.302004"
      ]
     },
     "execution_count": 83,
     "metadata": {
      "tags": []
     },
     "output_type": "execute_result"
    }
   ],
   "source": [
    " #bunu dataframe'e çevirelim\n",
    " df = pd.DataFrame(history.history)\n",
    " df.head()\n",
    "\n",
    " # tüm parametreleri tek tek çekebiliyorum böylelikle \n",
    " # bunları grafikte takip ederek "
   ]
  },
  {
   "cell_type": "code",
   "execution_count": 17,
   "metadata": {
    "colab": {
     "base_uri": "https://localhost:8080/",
     "height": 282
    },
    "id": "79g1-EEcNoAq",
    "outputId": "c6c54e09-60b5-40df-b448-75c8ba3370f8"
   },
   "outputs": [
    {
     "data": {
      "text/plain": [
       "<matplotlib.axes._subplots.AxesSubplot at 0x7f4c095817f0>"
      ]
     },
     "execution_count": 17,
     "metadata": {
      "tags": []
     },
     "output_type": "execute_result"
    },
    {
     "data": {
      "image/png": "[encoded data removed]",
      "text/plain": [
       "<Figure size 432x288 with 1 Axes>"
      ]
     },
     "metadata": {
      "needs_background": "light",
      "tags": []
     },
     "output_type": "display_data"
    }
   ],
   "source": [
    "df.plot()\n",
    "# grafik olarakta çizdirebiliriz "
   ]
  },
  {
   "cell_type": "code",
   "execution_count": 7,
   "metadata": {
    "colab": {
     "base_uri": "https://localhost:8080/"
    },
    "id": "SOQ7oHuuIsCO",
    "outputId": "294bc9d0-3d18-44d5-8f0f-ed30f7c9ddca"
   },
   "outputs": [
    {
     "name": "stdout",
     "output_type": "stream",
     "text": [
      "Model: \"sequential\"\n",
      "_________________________________________________________________\n",
      "Layer (type)                 Output Shape              Param #   \n",
      "=================================================================\n",
      "dense (Dense)                (None, None, 64)          896       \n",
      "_________________________________________________________________\n",
      "dense_1 (Dense)              (None, None, 32)          2080      \n",
      "_________________________________________________________________\n",
      "dense_2 (Dense)              (None, None, 1)           33        \n",
      "=================================================================\n",
      "Total params: 3,009\n",
      "Trainable params: 3,009\n",
      "Non-trainable params: 0\n",
      "_________________________________________________________________\n"
     ]
    }
   ],
   "source": [
    "model.summary()\n",
    "# modelin özetini gösteriyor, 13+bias=14 - 14*64 =896'yı verir 896 parametremiz var \n",
    "# 65*32 ise 2080'i verir \n",
    "# son layer'da da 33 pametre var\n",
    "# 3009 parametre var diyebiliriz"
   ]
  },
  {
   "cell_type": "code",
   "execution_count": 6,
   "metadata": {
    "id": "UEU_5bunJGSx"
   },
   "outputs": [],
   "source": [
    "model = Sequential([Dense(1000,input_shape = (None,X.shape[1]), activation=\"relu\"),\n",
    "                    Dense(100, activation=\"relu\"),\n",
    "                    Dense(1)]) \n",
    "# parametreleri 1000 ve 100 yaparsak eğer\n",
    "# hidden_layer'lar için activation fonksiyonunu default olarak relu veriyor\n",
    "# Aktivasyon Fonksiyonları ; Linear için F(x) = x ,  Sigmoid için f(x) = 1/1+e'-x , \n",
    "\n",
    "# sigmoid fonksiyondan farkı ise  \n",
    "\n",
    "# default olarak activation fonksiyonu linear fonksiyonu kullanıyor, non-linear fonksiyonlar için çalışmayacaktır \n",
    "# sigmoid biraz daha non-linear bir fonksiyon olduğu için onu kullandık \n",
    "# çıktı layerın'da sigmoid olmayacak çünkü 0 ile 1 olacak, o yüzden regression probleminde linear fonksiyonu kullanmış olacağız\n",
    "\n",
    "# Relu f(x) = x, x>0       eğer değilse linear bir function oluyor\n",
    "#             0, x<0      eğer 0'dan küçük ya da eşit ise 0 oluyor, \n",
    "# relu'ya bakacak olursak linear bir fonksiyonun türevi hep sabit sayıdır o yüzden türev hep sabit olacağı için öğrenme daha sabit olacaktır\n",
    "# az da olsa non-linear'lik eliyoruz ve öğrenmeyi daha stabil hale getirmeye çalışıyoruz\n",
    "# eskiden sigmoid kullanılıyordu daha çok ama şuan trend olan relu çünkü hidden_layer'larda öğrenme azalmasın diye "
   ]
  },
  {
   "cell_type": "code",
   "execution_count": 24,
   "metadata": {
    "colab": {
     "base_uri": "https://localhost:8080/"
    },
    "id": "CiK1Se78SkoA",
    "outputId": "96c8de2d-2e1a-468b-ba5b-1eaeaa1d9a43"
   },
   "outputs": [
    {
     "name": "stdout",
     "output_type": "stream",
     "text": [
      "WARNING:tensorflow:Model was constructed with shape (None, None, 13) for input KerasTensor(type_spec=TensorSpec(shape=(None, None, 13), dtype=tf.float32, name='dense_input'), name='dense_input', description=\"created by layer 'dense_input'\"), but it was called on an input with incompatible shape (None, 13).\n",
      "WARNING:tensorflow:Model was constructed with shape (None, None, 13) for input KerasTensor(type_spec=TensorSpec(shape=(None, None, 13), dtype=tf.float32, name='dense_input'), name='dense_input', description=\"created by layer 'dense_input'\"), but it was called on an input with incompatible shape (None, 13).\n",
      "WARNING:tensorflow:Model was constructed with shape (None, None, 13) for input KerasTensor(type_spec=TensorSpec(shape=(None, None, 13), dtype=tf.float32, name='dense_input'), name='dense_input', description=\"created by layer 'dense_input'\"), but it was called on an input with incompatible shape (None, 13).\n"
     ]
    }
   ],
   "source": [
    "# callbacks eklendikten sonra --\n",
    "val_control = tf.keras.callbacks.EarlyStopping(monitor='val_loss',patience=50) \n",
    "# vall_loss'u gözlemle diyoruz monitor ile\n",
    "# patience 10 dediğimiz de 10 iterasyon boyunca herhangi bir iyileşme göstermiyorsa herhangi bir sayı da diyebiliriz iyileşmesine bağlı modelin\n",
    "# demek ki validasyon datasında overfit oluyor diyeceğiz ve öğrenmeyi durdur diyeceğiz \n",
    "# callbacks=[val_control] ) callbacks burada her iterasyonda içerideki fonksiyonu çağıracak validasyon datasını izliyor 10 iterasyonda da bu fonksiyonu çağıracak\n",
    "# eğer vall_loss'u izliyor ve iyileşmemişse train etmeyi yani öğrenmeyi durdur diyeceğiz\n",
    "\n",
    "model.compile(optimizer=\"adam\",loss=\"mse\",metrics=[\"mae\",\"mape\"]) \n",
    "history = model.fit(X_train,y_train,epochs=1000, verbose=0, batch_size=500, \n",
    "                    validation_split=0.1, callbacks=[val_control] )\n",
    "\n",
    "# batch_Size\n",
    "# batch_size : her bir weight update ettiğimiz zaman 32'lik 32'lik yani farklı data'lar olduğunu düşünürsek, optimuma bazı datalar'da yaklaşırken \n",
    "# bazılarında dalgalanmalar oluyor, çünkü 32'lik alıyoruz ama batch_size'ı arttırsaydık daha smooth bir şekil çıkacaktı\n",
    "# batch_size=100 ya da batch_size=32 \n",
    "\n",
    "#validation_split - overfitting problem\n",
    "#validation_split çoğu zaman 0.1 olur \n",
    "# modelin complex olması overfitting'e yol açar o yüzdeen tehlikeli \n",
    "# train datası üzerinde modeli fit ediyoruz ya %90'ı train için %10'u validation için ayıracak\n",
    "# öğrenme ne kadar fazla olursa parametre sayısı fazla olduğu için overfitting oluyor, datayı ikiye ayıralım diyoruz\n",
    "# train datasında monotonic olarak azalıcak ama validasyon datasında ise bir vakitten sonra yükselmeye başlayacak, \n",
    "# modelin genelleştirebilirliği yok olacak, optimum complex'i belirlememiz gerekiyor yoksa geri gidersek underfit, ileri gidersek overfit olacak\n",
    "\n"
   ]
  },
  {
   "cell_type": "code",
   "execution_count": 26,
   "metadata": {
    "colab": {
     "base_uri": "https://localhost:8080/",
     "height": 282
    },
    "id": "pkt2pmavwRNr",
    "outputId": "e7b2f280-4768-4855-9d3b-bd01d3139050"
   },
   "outputs": [
    {
     "data": {
      "text/plain": [
       "<matplotlib.axes._subplots.AxesSubplot at 0x7f235e19ea58>"
      ]
     },
     "execution_count": 26,
     "metadata": {
      "tags": []
     },
     "output_type": "execute_result"
    },
    {
     "data": {
      "image/png": "[encoded data removed]",
      "text/plain": [
       "<Figure size 432x288 with 1 Axes>"
      ]
     },
     "metadata": {
      "needs_background": "light",
      "tags": []
     },
     "output_type": "display_data"
    }
   ],
   "source": [
    "# validation_split eklendikten sonra çalıştır \n",
    "df = pd.DataFrame(history.history)\n",
    "#df.head()\n",
    "\n",
    "# validation_split eklendikten sonra, df.head()'e bakarsak\n",
    "# train datası için metrics'leri tutuyor ve validation_split için tutuyor \n",
    "\n",
    "df[[\"loss\",\"val_loss\"]].plot() #ylim=[0,20]\n",
    "# train datası git gide aşağı gidiyor ama validasyon datasında şuan çok belli olmuyor o da azalıyor gibi\n",
    "# ama batch size'ı arttırırsak smooth bir graph çıkacağı için daha iyi yorumlayabiliriz \n",
    "# sanki hafif olarak bir yükselme var diyebiliriz validasyon datasında orası bizim için yeterli diyebiliriz, daha ideal bir yer gibi diyebiliriz\n",
    "\n",
    "\n",
    "# -----callbacks eklendikten sonra-----\n",
    "# epochs'u normalde 1000 demiştik ama 80'den sonra bir iyileşme olmuyor demek ki öğrenme durmuş oldu yani 80 iterasyon gitmiş oldu \n",
    "# overfitting olmamış olmadı"
   ]
  },
  {
   "cell_type": "code",
   "execution_count": 122,
   "metadata": {
    "colab": {
     "base_uri": "https://localhost:8080/"
    },
    "id": "RMtqOxLYQAKt",
    "outputId": "fe01bb86-031d-450d-b769-0e93b9b3772e"
   },
   "outputs": [
    {
     "name": "stdout",
     "output_type": "stream",
     "text": [
      "0.9427459899512733 4.603824466847222\n",
      "0.806625151942909 18.01361627339864\n"
     ]
    }
   ],
   "source": [
    "ypred_train = model.predict(X_train)\n",
    "ypred_test = model.predict(X_test)\n",
    "\n",
    "print(r2_score(y_train,ypred_train),mean_squared_error(y_train,ypred_train))\n",
    "print(r2_score(y_test,ypred_test),mean_squared_error(y_test,ypred_test))\n",
    "\n",
    "# model parametrelerini arttırırsak negatif değerlere bile düşebiliyoruz \n",
    "# modeli gerektiğinden fazla complex hale getirirsek, weight değişeceği için negatif çıkabilir ama tekrar çalıştırırsak pozitif çıkabilir\n",
    "# onun için grafiği inceleyeceğiz öğrenip öğrenmedi mi diye \n",
    "# global minimayı bulamamış olabiliriz \n",
    "# birkaç kez denedikten sonra daha iyi değerler bulabiliriz ama bunu graph üzerinde görebiliriz eğer azalıyor ise demek ki loss function\n",
    "# model öğreniyor diyebiliriz \n",
    "\n",
    "# -----sigmoid ekledikten sonra non-linear fonksiyon-------\n",
    "# train datası'nın sonucu daha iyi gözüküyor diyebiliriz \n",
    "\n",
    "# ------relu eklendikten sonra sabit bir öğrenme oluyor stabil-------\n",
    "# daha iyi gözüküyor train ve test testi"
   ]
  },
  {
   "cell_type": "code",
   "execution_count": 123,
   "metadata": {
    "colab": {
     "base_uri": "https://localhost:8080/",
     "height": 286
    },
    "id": "VkRX11RRQNhw",
    "outputId": "9fd1f054-35c8-41a6-db91-80174493d084"
   },
   "outputs": [
    {
     "data": {
      "text/plain": [
       "<matplotlib.axes._subplots.AxesSubplot at 0x7f4bead11cf8>"
      ]
     },
     "execution_count": 123,
     "metadata": {
      "tags": []
     },
     "output_type": "execute_result"
    },
    {
     "data": {
      "image/png": "[encoded data removed]",
      "text/plain": [
       "<Figure size 432x288 with 1 Axes>"
      ]
     },
     "metadata": {
      "needs_background": "light",
      "tags": []
     },
     "output_type": "display_data"
    }
   ],
   "source": [
    "df = pd.DataFrame(history.history)\n",
    "# df.plot()\n",
    "# grafik olarakta çizdirebiliriz \n",
    "# ylim ile istersek scale edip 0 ile 100 arasını görebiliriz\n",
    "df.plot(ylim = [0,100])\n",
    "# loss'un azaldığını  yani aşağı doğru bir eğilim var ise öğrendiğini söyleyebiliriz \n",
    "# epochs'u 1000 yaparsak ise hala aşağı doğru bir eğilim var öğrendiğini anlayabiliriz \n",
    "# aşağı doğru bir eğilim var demek ki öğrenmeye devam ediyor, smooth bir eğilim var ise demek ki öğrenmiş diyeceğiz epochs sayısını arttırmayacağız\n",
    "# ama öğrenmeye devam ediyorsa epochs sayısını arttırabiliriz \n",
    "\n",
    "# --- sigmoid ekledikten sonra -----\n",
    "# graph'da da görülürse çok daha rahat öğreniyoruz diyebiliriz, çok daha smooth bir şekilde öğrenebiliyoruz\n",
    "# non-linear'lik kattığımızda daha iyi öğrenebiliriz \n",
    "\n",
    "# ---- relu ekledikten sonra -----\n",
    "# aşağı kısma doğru eğilim devam ediyor ama tam bir sonuç belirleyemiyoruz grafiğe baktıktan sonra hangi model bizim için daha iyi onu anlayacağız\n",
    "# tensorflow'da malesef ki böyle  neural network'de hangi model daha iyi çalışır onu anca böyle anlayabiliyoruz, sonuca göre reçete uygulayacağız \n",
    "# epochs sayısını arttırma gibi veya hidden layer sayısını arttırma, graph'da tıkanma var ise eğer o sonucu gözlemleyip ona göre bir reçete uygulayabiliriz \n",
    "\n",
    "#------batch_size eklendikten sonra -------\n",
    "# graph'da daha smooth bir şekil çıkıyor daha hızlı öğrenmiş diyebiliriz, ama neden batch-size'ı düşük alıyoruz\n",
    "# çünkü memory'iyi yormamak için diyebiliriz, çok büyük datalara bakarsak, feature sayısı çok büyük diyelim ki \n",
    "# neural network architecture'larına bakarsak hesaplamalar çok uzun zaman alacak ve öğrenmem daha yavaş olacak\n",
    "# batch_size = 32 olursa diyelim ufak ufak öğrenmeler ile daha hızlı öğrenmiş olacağız \n"
   ]
  },
  {
   "cell_type": "code",
   "execution_count": null,
   "metadata": {
    "id": "9dXhVeORRIS1"
   },
   "outputs": [],
   "source": []
  }
 ],
 "metadata": {
  "colab": {
   "name": "tensorflow-intro-regression.ipynb",
   "provenance": []
  },
  "kernelspec": {
   "display_name": "Python 3",
   "language": "python",
   "name": "python3"
  },
  "language_info": {
   "codemirror_mode": {
    "name": "ipython",
    "version": 3
   },
   "file_extension": ".py",
   "mimetype": "text/x-python",
   "name": "python",
   "nbconvert_exporter": "python",
   "pygments_lexer": "ipython3",
   "version": "3.7.9"
  }
 },
 "nbformat": 4,
 "nbformat_minor": 1
}
