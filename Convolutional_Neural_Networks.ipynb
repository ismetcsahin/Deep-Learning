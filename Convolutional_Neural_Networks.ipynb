{
  "nbformat": 4,
  "nbformat_minor": 0,
  "metadata": {
    "colab": {
      "name": "Convolutional-Neural-Networks.ipynb",
      "provenance": []
    },
    "kernelspec": {
      "name": "python3",
      "display_name": "Python 3"
    },
    "accelerator": "GPU"
  },
  "cells": [
    {
      "cell_type": "markdown",
      "metadata": {
        "id": "l8S8_WHMHzid"
      },
      "source": [
        "**Evrişimli sinir ağları** - **Convolutional Neural Networks**\r\n",
        "\r\n",
        "Evrişimsel sinir ağları, derin öğrenmenin bir alt dalıdır ve genellikle görsel bilginin analiz edilmesinde kullanılır. Yaygın kullanım alanları resim ve video tanıma, öneri sistemleri resim sınıflandırma, tıbbi görüntü analizi ve doğal dil işleme olarak sıralanabilir."
      ]
    },
    {
      "cell_type": "code",
      "metadata": {
        "id": "5O26-5HrH2ip"
      },
      "source": [
        "from sklearn.datasets import load_boston # boston datasetini aldık sklearn içerisinden\r\n",
        "import numpy as np\r\n",
        "import matplotlib.pyplot as plt\r\n",
        "from sklearn.neural_network import MLPRegressor  # regression problemi için bunu import ettik\r\n",
        "import pandas as pd\r\n",
        "from sklearn.model_selection import train_test_split # train ve test için import ettik\r\n",
        "from sklearn.metrics import r2_score, mean_squared_error\r\n",
        "from sklearn.neural_network import MLPClassifier # derin öğrenme ile sınıflandırma \r\n",
        "from sklearn.metrics import accuracy_score # doğruluk score'u\r\n",
        "from sklearn.datasets import load_breast_cancer # meme kanseri verisini aldık\r\n",
        "import tensorflow as tf \r\n",
        "from tensorflow.keras.models import Sequential\r\n",
        "\r\n",
        "\r\n",
        "\r\n"
      ],
      "execution_count": 3,
      "outputs": []
    },
    {
      "cell_type": "code",
      "metadata": {
        "id": "C6GqLkTEVqDq"
      },
      "source": [
        "from tensorflow.keras.layers import Dense, Flatten, Conv2D, MaxPool2D, Dropout\r\n",
        "# konvolüsyon ve maxpool'u ekledik \r\n",
        "# düzleştirmek için Flatten'ı ekledik\r\n",
        "# dropout'u ekledik, dropout layer "
      ],
      "execution_count": 4,
      "outputs": []
    },
    {
      "cell_type": "code",
      "metadata": {
        "colab": {
          "base_uri": "https://localhost:8080/"
        },
        "id": "xiZCUJxGV2R-",
        "outputId": "68be9bb3-1689-420e-b9d8-1c24d6e1a957"
      },
      "source": [
        "(X_train,y_train),(X_test,y_test) = tf.keras.datasets.mnist.load_data()\r\n",
        "X_train = X_train/255.0\r\n",
        "X_test = X_test/255.0\r\n",
        "\r\n",
        "X_train = X_train[...,np.newaxis] # yeni bir tane boyut ekleyecek \r\n",
        "X_test = X_test[...,np.newaxis]\r\n",
        "# renkli bir resim için üç kanalımız olması gerekiyor R,G,B kanalları aslında o yüzden 1 ekledik. gray olduğu için 1 yazdık ama normal resimde 3 yapacaktık\r\n",
        "model = Sequential([Conv2D(64, kernel_size = (3,3), input_shape=(28,28,1),activation=\"relu\"),    # ilk başta konvolüsyon değerini ekleyeceğiz, 64 filtre eklemiş olduk, kernel_size ise kaça kaçlık bir filtre uygulayacağımızı söylüyoruz, \r\n",
        "                    MaxPool2D((2,2)),                                        # maxpool'da sadece kernel_size'ı söylüyoruz 2*2'lik olsun \r\n",
        "                    Dropout(0.2),         #dropout her bir iterasyon'da weight'leri update ederken, arada 100 bağlantı varsa %20'sini siliyor ve öyle devam ediyor,parametre sayısını azaltıyor daha complex olmuyor ve overfitting olmasını önlüyoruz\r\n",
        "                    Conv2D(32, kernel_size = (3,3),activation=\"relu\"),      # konvolüsyonda aktivasyon olacak ama maxpool'da olmayacak\r\n",
        "                    MaxPool2D((2,2)),                                     #hala burada 2 boyutlu bir matrisimiz var o yüzden bunu tek boyutlu matrise çevireceğiz\r\n",
        "                    Dropout(0.2),\r\n",
        "                    Flatten(),                                            # burada tek boyuta çevirmek için kullandık düzleştirmek için \r\n",
        "                    Dense(64,activation=\"relu\"),\r\n",
        "                    Dense(32),\r\n",
        "                    Dense(10, activation = \"softmax\")])           # 10 tane output'umuz olduğu için 0 ile 9 rakamı yani, 10 koyduk\r\n",
        "\r\n",
        "model.summary()                    "
      ],
      "execution_count": 5,
      "outputs": [
        {
          "output_type": "stream",
          "text": [
            "Downloading data from https://storage.googleapis.com/tensorflow/tf-keras-datasets/mnist.npz\n",
            "11493376/11490434 [==============================] - 0s 0us/step\n",
            "Model: \"sequential\"\n",
            "_________________________________________________________________\n",
            "Layer (type)                 Output Shape              Param #   \n",
            "=================================================================\n",
            "conv2d (Conv2D)              (None, 26, 26, 64)        640       \n",
            "_________________________________________________________________\n",
            "max_pooling2d (MaxPooling2D) (None, 13, 13, 64)        0         \n",
            "_________________________________________________________________\n",
            "dropout (Dropout)            (None, 13, 13, 64)        0         \n",
            "_________________________________________________________________\n",
            "conv2d_1 (Conv2D)            (None, 11, 11, 32)        18464     \n",
            "_________________________________________________________________\n",
            "max_pooling2d_1 (MaxPooling2 (None, 5, 5, 32)          0         \n",
            "_________________________________________________________________\n",
            "dropout_1 (Dropout)          (None, 5, 5, 32)          0         \n",
            "_________________________________________________________________\n",
            "flatten (Flatten)            (None, 800)               0         \n",
            "_________________________________________________________________\n",
            "dense (Dense)                (None, 64)                51264     \n",
            "_________________________________________________________________\n",
            "dense_1 (Dense)              (None, 32)                2080      \n",
            "_________________________________________________________________\n",
            "dense_2 (Dense)              (None, 10)                330       \n",
            "=================================================================\n",
            "Total params: 72,778\n",
            "Trainable params: 72,778\n",
            "Non-trainable params: 0\n",
            "_________________________________________________________________\n"
          ],
          "name": "stdout"
        }
      ]
    },
    {
      "cell_type": "markdown",
      "metadata": {
        "id": "SXxFP1igaaaJ"
      },
      "source": [
        "yukarıdaki kodun summary'si\r\n",
        "\r\n",
        "Bir tane konvolüsyondan sonra normalde 28*28'lik olan shape'imiz 64 tane 26*26'lık şeyimiz oldu, max_pooling yapınca 13,13,64'e düştü \r\n",
        "sonra 11,11'lik 32 tane yine konvolüsyon değerlerimiz ortaya çıktı. \r\n",
        "sonra yine max_pooling yaptık yarıya düşürdük .\r\n",
        "sonra flatten yaparak tek boyuta indirgedik\r\n",
        "sonra da dense uyguladık "
      ]
    },
    {
      "cell_type": "code",
      "metadata": {
        "colab": {
          "base_uri": "https://localhost:8080/"
        },
        "id": "V7BkjeM_bGjM",
        "outputId": "9243dafa-402f-4d8b-8119-12c6a096d5ed"
      },
      "source": [
        "model.compile(optimizer=\"adam\",loss=\"sparse_categorical_crossentropy\",metrics=[\"accuracy\"]) \r\n",
        "\r\n",
        "history = model.fit(X_train,y_train,epochs=10, verbose=1, batch_size=32, \r\n",
        "                    validation_split=0.1)  # sadece callbacks'i sildik\r\n",
        "\r\n",
        "#72.000 tane parametre olduğu için çok uzun sürecek\r\n",
        "# Cnn'de yaparken parametre sayısı çok fazla, ve o yüzden çok fazla sürüyor, 1 iterasyonu 58 saniyede yaptı cpu'da olduğu için\r\n",
        "# biz runtime üzerinden çalışma zamanı türünü değiştir üzerinden gpu'yu seçtik \r\n",
        "# Tensor İşleme Birimi (TPU), Google tarafından derin öğrenme görevlerini hızlandırmak için özel olarak geliştirilmiş bir yongadır.\r\n",
        "# gpu ile 13 sn'de aynı işlemi yapmış olduk bunu tpu ile de yapabilirdik tensor processing unit ile \r\n",
        "# bu daha büyük datalarda daha fazla fark edeceğini söyleyebiliriz \r\n",
        "\r\n",
        "# accuracy değerlerine de bakarsak 0.9971 ulaşmış durumda \r\n",
        "# val_accuracy: 0.9893 olmuş gayet başarılı diyebiliriz model\r\n",
        "\r\n",
        "# complex neural networklerde ya da cnn'ler ile uğraştığımız zaman parametre sayımız çok fazla olacak ve parametre sayımızın çok fazla olması overfit olması demek\r\n",
        "# validasyon datası ile orada iyileşme sağlamıyorsa orada dur diyebiliriz öğrenmeyi durdurabiliriz \r\n",
        "\r\n",
        "# dropout dediğmiz farklı layer  var"
      ],
      "execution_count": 6,
      "outputs": [
        {
          "output_type": "stream",
          "text": [
            "Epoch 1/10\n",
            "1688/1688 [==============================] - 12s 3ms/step - loss: 0.4059 - accuracy: 0.8699 - val_loss: 0.0761 - val_accuracy: 0.9788\n",
            "Epoch 2/10\n",
            "1688/1688 [==============================] - 5s 3ms/step - loss: 0.0731 - accuracy: 0.9777 - val_loss: 0.0452 - val_accuracy: 0.9880\n",
            "Epoch 3/10\n",
            "1688/1688 [==============================] - 5s 3ms/step - loss: 0.0520 - accuracy: 0.9842 - val_loss: 0.0401 - val_accuracy: 0.9880\n",
            "Epoch 4/10\n",
            "1688/1688 [==============================] - 5s 3ms/step - loss: 0.0413 - accuracy: 0.9864 - val_loss: 0.0354 - val_accuracy: 0.9895\n",
            "Epoch 5/10\n",
            "1688/1688 [==============================] - 5s 3ms/step - loss: 0.0360 - accuracy: 0.9883 - val_loss: 0.0387 - val_accuracy: 0.9900\n",
            "Epoch 6/10\n",
            "1688/1688 [==============================] - 5s 3ms/step - loss: 0.0298 - accuracy: 0.9895 - val_loss: 0.0338 - val_accuracy: 0.9902\n",
            "Epoch 7/10\n",
            "1688/1688 [==============================] - 5s 3ms/step - loss: 0.0285 - accuracy: 0.9905 - val_loss: 0.0428 - val_accuracy: 0.9885\n",
            "Epoch 8/10\n",
            "1688/1688 [==============================] - 5s 3ms/step - loss: 0.0257 - accuracy: 0.9920 - val_loss: 0.0327 - val_accuracy: 0.9910\n",
            "Epoch 9/10\n",
            "1688/1688 [==============================] - 5s 3ms/step - loss: 0.0230 - accuracy: 0.9921 - val_loss: 0.0381 - val_accuracy: 0.9913\n",
            "Epoch 10/10\n",
            "1688/1688 [==============================] - 5s 3ms/step - loss: 0.0207 - accuracy: 0.9931 - val_loss: 0.0352 - val_accuracy: 0.9907\n"
          ],
          "name": "stdout"
        }
      ]
    },
    {
      "cell_type": "code",
      "metadata": {
        "colab": {
          "base_uri": "https://localhost:8080/",
          "height": 282
        },
        "id": "T55mB6sKbYgh",
        "outputId": "3e7fc561-f844-42cf-c77d-caebb181d035"
      },
      "source": [
        "df = pd.DataFrame(history.history) #çizdirmek için \r\n",
        "df[[\"accuracy\",\"val_accuracy\"]].plot() \r\n",
        "\r\n",
        "# yani bir zaman sonra validasyon datası doyuma ulaşıyor diyebiliriz özellikle sonlara doğru çünkü azalma yaşanıor "
      ],
      "execution_count": 7,
      "outputs": [
        {
          "output_type": "execute_result",
          "data": {
            "text/plain": [
              "<matplotlib.axes._subplots.AxesSubplot at 0x7f347645fc50>"
            ]
          },
          "metadata": {
            "tags": []
          },
          "execution_count": 7
        },
        {
          "output_type": "display_data",
          "data": {
            "image/png": "[encoded data removed]",
            "text/plain": [
              "<Figure size 432x288 with 1 Axes>"
            ]
          },
          "metadata": {
            "tags": [],
            "needs_background": "light"
          }
        }
      ]
    },
    {
      "cell_type": "code",
      "metadata": {
        "id": "tE0sMeKkJ9Nm"
      },
      "source": [
        ""
      ],
      "execution_count": null,
      "outputs": []
    }
  ]
}